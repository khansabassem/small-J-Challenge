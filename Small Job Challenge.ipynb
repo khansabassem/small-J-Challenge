{
 "cells": [
  {
   "cell_type": "markdown",
   "metadata": {},
   "source": [
    "# Job challenge by Bassem EL-KHANSAA\n",
    "## @ 12 July 2021"
   ]
  },
  {
   "cell_type": "code",
   "execution_count": null,
   "metadata": {},
   "outputs": [],
   "source": [
    "# !pip install python-Levenshtein"
   ]
  },
  {
   "cell_type": "code",
   "execution_count": 28,
   "metadata": {},
   "outputs": [],
   "source": [
    "import Levenshtein as lv\n",
    "# import pandas module\n",
    "import pandas as pd"
   ]
  },
  {
   "cell_type": "code",
   "execution_count": 46,
   "metadata": {},
   "outputs": [
    {
     "name": "stdout",
     "output_type": "stream",
     "text": [
      "Cuca,\n",
      "Lua,\n",
      "Luba,\n",
      "Lucas,\n",
      "Luce,\n",
      "Lucia,\n",
      "Lucy,\n",
      "Lula,\n",
      "Luma,\n",
      "Luna,\n",
      "Lupa,\n",
      "Yuca,\n"
     ]
    }
   ],
   "source": [
    "\n",
    "# creating a data frame\n",
    "df = pd.read_csv('20210103_hundenamen.csv')\n",
    "\n",
    "# filtering names\n",
    "res = dict()\n",
    "for name in df['HUNDENAME']:\n",
    "    if(lv.distance('Luca', name)==1):\n",
    "#         res.append(name)\n",
    "        res[name]=1\n",
    "    \n",
    "for name in res.keys(): \n",
    "    print(name+\",\")\n"
   ]
  }
 ],
 "metadata": {
  "kernelspec": {
   "display_name": "Python 3",
   "language": "python",
   "name": "python3"
  },
  "language_info": {
   "codemirror_mode": {
    "name": "ipython",
    "version": 3
   },
   "file_extension": ".py",
   "mimetype": "text/x-python",
   "name": "python",
   "nbconvert_exporter": "python",
   "pygments_lexer": "ipython3",
   "version": "3.8.5"
  }
 },
 "nbformat": 4,
 "nbformat_minor": 4
}
